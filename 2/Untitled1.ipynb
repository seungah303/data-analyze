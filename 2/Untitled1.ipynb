{
 "cells": [
  {
   "cell_type": "markdown",
   "id": "9ac1ebfa-970a-4f8b-bc48-d4f3ca4808d9",
   "metadata": {},
   "source": [
    "## DAtaFrame 만들기"
   ]
  },
  {
   "cell_type": "code",
   "execution_count": 2,
   "id": "f5cf39f8-6e0b-4c2e-ad57-767ac4b17c3b",
   "metadata": {},
   "outputs": [],
   "source": [
    "import pandas as pd\n",
    "import numpy as np\n",
    "import datetime as dt"
   ]
  },
  {
   "cell_type": "code",
   "execution_count": 3,
   "id": "45bda2c1-593d-4474-998f-589a36af553d",
   "metadata": {},
   "outputs": [
    {
     "data": {
      "text/plain": [
       "0    0.548814\n",
       "1    0.715189\n",
       "2    0.602763\n",
       "3    0.544883\n",
       "4    0.423655\n",
       "Name: random, dtype: float64"
      ]
     },
     "execution_count": 3,
     "metadata": {},
     "output_type": "execute_result"
    }
   ],
   "source": [
    "np.random.seed(0)\n",
    "pd.Series(np.random.rand(5),name='random')"
   ]
  },
  {
   "cell_type": "markdown",
   "id": "fb167a99-35f0-4c47-bf4e-90ab8602f14d",
   "metadata": {},
   "source": [
    "-random: 0과 1사이의 5개 난수로 구성된 numpy 배열\\\n",
    "-text: 5개의 문자열이나 None으로 구성된 리스트\\\n",
    "-truth: 5개의 임의의 부울값으로 구성된 리스트\n",
    "\n",
    "pd.date_range()함수로 Datetimeindex 객체 만들어볼게~\n"
   ]
  },
  {
   "cell_type": "code",
   "execution_count": 6,
   "id": "b094ac60-25cd-496c-a1c2-ba9bbd995a67",
   "metadata": {},
   "outputs": [
    {
     "data": {
      "text/html": [
       "<div>\n",
       "<style scoped>\n",
       "    .dataframe tbody tr th:only-of-type {\n",
       "        vertical-align: middle;\n",
       "    }\n",
       "\n",
       "    .dataframe tbody tr th {\n",
       "        vertical-align: top;\n",
       "    }\n",
       "\n",
       "    .dataframe thead th {\n",
       "        text-align: right;\n",
       "    }\n",
       "</style>\n",
       "<table border=\"1\" class=\"dataframe\">\n",
       "  <thead>\n",
       "    <tr style=\"text-align: right;\">\n",
       "      <th></th>\n",
       "      <th>random</th>\n",
       "      <th>text</th>\n",
       "      <th>truth</th>\n",
       "    </tr>\n",
       "    <tr>\n",
       "      <th>date</th>\n",
       "      <th></th>\n",
       "      <th></th>\n",
       "      <th></th>\n",
       "    </tr>\n",
       "  </thead>\n",
       "  <tbody>\n",
       "    <tr>\n",
       "      <th>2019-04-17</th>\n",
       "      <td>0.548814</td>\n",
       "      <td>hot</td>\n",
       "      <td>False</td>\n",
       "    </tr>\n",
       "    <tr>\n",
       "      <th>2019-04-18</th>\n",
       "      <td>0.715189</td>\n",
       "      <td>warm</td>\n",
       "      <td>True</td>\n",
       "    </tr>\n",
       "    <tr>\n",
       "      <th>2019-04-19</th>\n",
       "      <td>0.602763</td>\n",
       "      <td>cool</td>\n",
       "      <td>True</td>\n",
       "    </tr>\n",
       "    <tr>\n",
       "      <th>2019-04-20</th>\n",
       "      <td>0.544883</td>\n",
       "      <td>cold</td>\n",
       "      <td>False</td>\n",
       "    </tr>\n",
       "    <tr>\n",
       "      <th>2019-04-21</th>\n",
       "      <td>0.423655</td>\n",
       "      <td>None</td>\n",
       "      <td>True</td>\n",
       "    </tr>\n",
       "  </tbody>\n",
       "</table>\n",
       "</div>"
      ],
      "text/plain": [
       "              random  text  truth\n",
       "date                             \n",
       "2019-04-17  0.548814   hot  False\n",
       "2019-04-18  0.715189  warm   True\n",
       "2019-04-19  0.602763  cool   True\n",
       "2019-04-20  0.544883  cold  False\n",
       "2019-04-21  0.423655  None   True"
      ]
     },
     "execution_count": 6,
     "metadata": {},
     "output_type": "execute_result"
    }
   ],
   "source": [
    "np.random.seed(0) #재현을 위해 시드를 설정\n",
    "pd.DataFrame(\n",
    "    {\n",
    "        'random':np.random.rand(5),\n",
    "        'text':['hot','warm','cool','cold',None],\n",
    "        'truth':[np.random.choice([True,False])\n",
    "                 for _ in range(5)]\n",
    "    },\n",
    "    index=pd.date_range(\n",
    "        end=dt.date(2019,4,21),\n",
    "        freq='1D', periods=5, name='date'\n",
    "    )\n",
    ")"
   ]
  },
  {
   "cell_type": "code",
   "execution_count": 7,
   "id": "093dac78-02da-4f78-b42c-31b603f8e968",
   "metadata": {},
   "outputs": [
    {
     "data": {
      "text/html": [
       "<div>\n",
       "<style scoped>\n",
       "    .dataframe tbody tr th:only-of-type {\n",
       "        vertical-align: middle;\n",
       "    }\n",
       "\n",
       "    .dataframe tbody tr th {\n",
       "        vertical-align: top;\n",
       "    }\n",
       "\n",
       "    .dataframe thead th {\n",
       "        text-align: right;\n",
       "    }\n",
       "</style>\n",
       "<table border=\"1\" class=\"dataframe\">\n",
       "  <thead>\n",
       "    <tr style=\"text-align: right;\">\n",
       "      <th></th>\n",
       "      <th>mag</th>\n",
       "      <th>place</th>\n",
       "    </tr>\n",
       "  </thead>\n",
       "  <tbody>\n",
       "    <tr>\n",
       "      <th>0</th>\n",
       "      <td>5.2</td>\n",
       "      <td>Californima</td>\n",
       "    </tr>\n",
       "    <tr>\n",
       "      <th>1</th>\n",
       "      <td>1.2</td>\n",
       "      <td>Alaska</td>\n",
       "    </tr>\n",
       "    <tr>\n",
       "      <th>2</th>\n",
       "      <td>1.2</td>\n",
       "      <td>California</td>\n",
       "    </tr>\n",
       "  </tbody>\n",
       "</table>\n",
       "</div>"
      ],
      "text/plain": [
       "   mag        place\n",
       "0  5.2  Californima\n",
       "1  1.2       Alaska\n",
       "2  1.2   California"
      ]
     },
     "execution_count": 7,
     "metadata": {},
     "output_type": "execute_result"
    }
   ],
   "source": [
    "pd.DataFrame([\n",
    "    {'mag': 5.2, 'place':'Californima'},\n",
    "    {'mag':1.2,'place':'Alaska'},\n",
    "    {'mag':1.2,'place':'California'},\n",
    "])"
   ]
  },
  {
   "cell_type": "markdown",
   "id": "cea03dcc-474b-4bd0-bbeb-cbe316fa6411",
   "metadata": {},
   "source": [
    "#### 튜플이 뭐야?\n",
    "- 리스트는[], 튜플은() 로 둘러싼다.\n",
    "- 리스트는 요소값의 생성, 삭제, 수정이 가능하지만 튜플은 요소값을 바꿀 수 없다!!\n",
    "- 실제 프로그램에서는 값이 변경되는 형태의 변수가 훨씬 많기 때문에 평균적으로 튜플보다 리스트를 더 많이 사용한다..."
   ]
  },
  {
   "cell_type": "code",
   "execution_count": 10,
   "id": "9d4acc2a-dfe9-48cb-b3de-917abb3ede20",
   "metadata": {},
   "outputs": [
    {
     "data": {
      "text/plain": [
       "[(0, 0, 0), (1, 1, 1), (2, 4, 8), (3, 9, 27), (4, 16, 64)]"
      ]
     },
     "execution_count": 10,
     "metadata": {},
     "output_type": "execute_result"
    }
   ],
   "source": [
    "list_of_tuples=[(n,n**2,n**3)for n in range(5)]\n",
    "list_of_tuples"
   ]
  },
  {
   "cell_type": "code",
   "execution_count": 12,
   "id": "b5a19cfc-5e67-40e6-906b-83e67eed7c32",
   "metadata": {},
   "outputs": [
    {
     "data": {
      "text/html": [
       "<div>\n",
       "<style scoped>\n",
       "    .dataframe tbody tr th:only-of-type {\n",
       "        vertical-align: middle;\n",
       "    }\n",
       "\n",
       "    .dataframe tbody tr th {\n",
       "        vertical-align: top;\n",
       "    }\n",
       "\n",
       "    .dataframe thead th {\n",
       "        text-align: right;\n",
       "    }\n",
       "</style>\n",
       "<table border=\"1\" class=\"dataframe\">\n",
       "  <thead>\n",
       "    <tr style=\"text-align: right;\">\n",
       "      <th></th>\n",
       "      <th>n</th>\n",
       "      <th>n_squared</th>\n",
       "      <th>n_cubed</th>\n",
       "    </tr>\n",
       "  </thead>\n",
       "  <tbody>\n",
       "    <tr>\n",
       "      <th>0</th>\n",
       "      <td>0</td>\n",
       "      <td>0</td>\n",
       "      <td>0</td>\n",
       "    </tr>\n",
       "    <tr>\n",
       "      <th>1</th>\n",
       "      <td>1</td>\n",
       "      <td>1</td>\n",
       "      <td>1</td>\n",
       "    </tr>\n",
       "    <tr>\n",
       "      <th>2</th>\n",
       "      <td>2</td>\n",
       "      <td>4</td>\n",
       "      <td>8</td>\n",
       "    </tr>\n",
       "    <tr>\n",
       "      <th>3</th>\n",
       "      <td>3</td>\n",
       "      <td>9</td>\n",
       "      <td>27</td>\n",
       "    </tr>\n",
       "    <tr>\n",
       "      <th>4</th>\n",
       "      <td>4</td>\n",
       "      <td>16</td>\n",
       "      <td>64</td>\n",
       "    </tr>\n",
       "  </tbody>\n",
       "</table>\n",
       "</div>"
      ],
      "text/plain": [
       "   n  n_squared  n_cubed\n",
       "0  0          0        0\n",
       "1  1          1        1\n",
       "2  2          4        8\n",
       "3  3          9       27\n",
       "4  4         16       64"
      ]
     },
     "execution_count": 12,
     "metadata": {},
     "output_type": "execute_result"
    }
   ],
   "source": [
    "pd.DataFrame(\n",
    "    list_of_tuples,\n",
    "    columns=['n','n_squared','n_cubed']\n",
    ")"
   ]
  },
  {
   "cell_type": "code",
   "execution_count": 13,
   "id": "cdc060b8-5c43-46a6-b5ce-149018d1e8a2",
   "metadata": {},
   "outputs": [],
   "source": [
    "df=pd.read_csv('earthquakes.csv') #pd.read_csv() 함수로 로컬 컴퓨터의 파일 읽기"
   ]
  },
  {
   "cell_type": "markdown",
   "id": "f9adc4c2-a0bc-4afd-b9f9-ea64defa9fb5",
   "metadata": {},
   "source": [
    "## DataFrame 객체 확인하기\n",
    ">우리의 주된 목표는 데이터가 제대로 읽혔는지. 그리고 모든 데이터가 들어있는지를 확인하는 것이지만!! 초기 검사를 통해 데이터 랭글링을 어떨게 진행해야 할 것이지에 대한 아이디어를 얻는것이다~~"
   ]
  },
  {
   "cell_type": "code",
   "execution_count": 1,
   "id": "abf482f9-f1dc-485e-a109-15a2fcbf633c",
   "metadata": {},
   "outputs": [],
   "source": [
    "import pandas as pd\n",
    "import numpy as np\n",
    "\n",
    "df=pd.read_csv('earthquakes.csv')"
   ]
  },
  {
   "cell_type": "markdown",
   "id": "17f85598-fd62-4746-806e-8e80138575ea",
   "metadata": {},
   "source": [
    "dataframe을 csv파일로 만들기 : to_csv()메서드 사용!\\\n",
    "이때 df의 인덱스가 단순히 행 번호라면, 이 행 번호를 파일에 저장하는 것을 원치 않을 수 있지만 기본으로 저장이 되어버린다. 이때, index=False 옵션을 사용하면 인덱스를 저장하지 않음!!"
   ]
  },
  {
   "cell_type": "code",
   "execution_count": 14,
   "id": "45214f1f-c19d-420d-a552-5afa4b7a2919",
   "metadata": {},
   "outputs": [],
   "source": [
    "df.to_csv('output.csv',index=False)"
   ]
  }
 ],
 "metadata": {
  "kernelspec": {
   "display_name": "Python 3 (ipykernel)",
   "language": "python",
   "name": "python3"
  },
  "language_info": {
   "codemirror_mode": {
    "name": "ipython",
    "version": 3
   },
   "file_extension": ".py",
   "mimetype": "text/x-python",
   "name": "python",
   "nbconvert_exporter": "python",
   "pygments_lexer": "ipython3",
   "version": "3.11.7"
  }
 },
 "nbformat": 4,
 "nbformat_minor": 5
}
